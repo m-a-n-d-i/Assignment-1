{
 "cells": [
  {
   "cell_type": "code",
   "execution_count": 3,
   "metadata": {},
   "outputs": [
    {
     "ename": "AssertionError",
     "evalue": "",
     "output_type": "error",
     "traceback": [
      "\u001b[1;31m---------------------------------------------------------------------------\u001b[0m",
      "\u001b[1;31mAssertionError\u001b[0m                            Traceback (most recent call last)",
      "Cell \u001b[1;32mIn[3], line 7\u001b[0m\n\u001b[0;32m      5\u001b[0m \u001b[39m#not changed\u001b[39;00m\n\u001b[0;32m      6\u001b[0m im \u001b[39m=\u001b[39m cv\u001b[39m.\u001b[39mimread(\u001b[39m'\u001b[39m\u001b[39mwashed_out_aerial_image.png\u001b[39m\u001b[39m'\u001b[39m, cv\u001b[39m.\u001b[39mIMREAD_GRAYSCALE)\n\u001b[1;32m----> 7\u001b[0m \u001b[39massert\u001b[39;00m im \u001b[39mis\u001b[39;00m \u001b[39mnot\u001b[39;00m \u001b[39mNone\u001b[39;00m\n\u001b[0;32m      9\u001b[0m plt\u001b[39m.\u001b[39mfigure(figsize \u001b[39m=\u001b[39m [\u001b[39m10\u001b[39m, \u001b[39m5\u001b[39m])\n\u001b[0;32m     10\u001b[0m plt\u001b[39m.\u001b[39msubplot(\u001b[39m1\u001b[39m, \u001b[39m2\u001b[39m, \u001b[39m1\u001b[39m)\n",
      "\u001b[1;31mAssertionError\u001b[0m: "
     ]
    }
   ],
   "source": [
    "import cv2 as cv\n",
    "import matplotlib.pyplot as plt\n",
    "import numpy as np\n",
    "\n",
    "#not changed\n",
    "im = cv.imread('washed_out_aerial_image.png', cv.IMREAD_GRAYSCALE)\n",
    "assert im is not None\n",
    "\n",
    "plt.figure(figsize = [10, 5])\n",
    "plt.subplot(1, 2, 1)\n",
    "plt.gca().set_title('Before Equalization')\n",
    "before = np.zeros(256)\n",
    "before = [np.sum(im==i) for i in range (256)]\n",
    "plt.bar(range(256), before)\n",
    "\n",
    "plt.subplot(1, 2, 2)\n",
    "plt.gca().set_title('After Equalization')\n",
    "after = cv.equalizeHist(im)\n",
    "plt.hist(after)\n",
    "plt.show()\n",
    "\n",
    "fig, ax= plt.subplots(1,2, figsize=(10,20))\n",
    "ax[0].imshow(im, cmap=\"gray\")\n",
    "ax[0].set_title('Original Image')\n",
    "ax[1].imshow(after, cmap=\"gray\")\n",
    "ax[1].set_title('Transformed Image')\n",
    "plt.show()"
   ]
  }
 ],
 "metadata": {
  "kernelspec": {
   "display_name": "Python 3",
   "language": "python",
   "name": "python3"
  },
  "language_info": {
   "codemirror_mode": {
    "name": "ipython",
    "version": 3
   },
   "file_extension": ".py",
   "mimetype": "text/x-python",
   "name": "python",
   "nbconvert_exporter": "python",
   "pygments_lexer": "ipython3",
   "version": "3.11.2"
  },
  "orig_nbformat": 4,
  "vscode": {
   "interpreter": {
    "hash": "87750d9ca47a2bff8442e9b3af0f5659d3ee8f2af33f0a341a5eab90851eb5b3"
   }
  }
 },
 "nbformat": 4,
 "nbformat_minor": 2
}
